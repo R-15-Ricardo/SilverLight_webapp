{
 "cells": [
  {
   "cell_type": "code",
   "execution_count": 1,
   "metadata": {},
   "outputs": [],
   "source": [
    "import pandas as pd\n",
    "import requests\n",
    "from bs4 import BeautifulSoup as bsp"
   ]
  },
  {
   "cell_type": "code",
   "execution_count": 46,
   "metadata": {},
   "outputs": [],
   "source": [
    "data_url = 'https://www.geogpsperu.com/p/descargas.html'\n",
    "page_df = pd.read_html(data_url, extract_links='body')[0]\n",
    "page_df = page_df.drop(['Formato', 'Fuente'], axis=1)\n",
    "\n",
    "page_df['Producto'].update(page_df['Producto'].transform(lambda x : x[0] if isinstance(x,tuple) else x))\n",
    "page_df['Publicación'].update(page_df['Publicación'].transform(lambda x : x[1] if isinstance(x,tuple) else x))\n",
    "\n"
   ]
  },
  {
   "cell_type": "code",
   "execution_count": 50,
   "metadata": {},
   "outputs": [],
   "source": [
    "links_dic = page_df.set_index(['Producto'])\n",
    "links_dic = links_dic.to_dict()['Publicación']"
   ]
  },
  {
   "cell_type": "code",
   "execution_count": null,
   "metadata": {},
   "outputs": [],
   "source": []
  }
 ],
 "metadata": {
  "kernelspec": {
   "display_name": "Python 3.10.7 ('venv': venv)",
   "language": "python",
   "name": "python3"
  },
  "language_info": {
   "codemirror_mode": {
    "name": "ipython",
    "version": 3
   },
   "file_extension": ".py",
   "mimetype": "text/x-python",
   "name": "python",
   "nbconvert_exporter": "python",
   "pygments_lexer": "ipython3",
   "version": "3.10.7"
  },
  "orig_nbformat": 4,
  "vscode": {
   "interpreter": {
    "hash": "582d902cdee00b7481c4f2ee9a9381e078730739fcc4d2ddbbc550ce20120030"
   }
  }
 },
 "nbformat": 4,
 "nbformat_minor": 2
}
